{
  "nbformat": 4,
  "nbformat_minor": 0,
  "metadata": {
    "colab": {
      "name": "handwrite.ipynb",
      "provenance": [],
      "collapsed_sections": []
    },
    "kernelspec": {
      "name": "python3",
      "display_name": "Python 3"
    }
  },
  "cells": [
    {
      "cell_type": "markdown",
      "metadata": {
        "id": "N4omUsrOZJPm"
      },
      "source": [
        "Clone Core Repository and Install Dependencies"
      ]
    },
    {
      "cell_type": "code",
      "metadata": {
        "id": "hyVL4EEGT9l5"
      },
      "source": [
        "!git clone https://github.com/nobody190/handwriting-synthesis\r\n",
        "\r\n",
        "%cd handwriting-synthesis\r\n",
        "\r\n",
        "!pip uninstall tensorflow\r\n",
        "!pip install tensorflow==1.6.0\r\n",
        "!pip install svgwrite"
      ],
      "execution_count": null,
      "outputs": []
    },
    {
      "cell_type": "markdown",
      "metadata": {
        "id": "iiHWCr6YZZCi"
      },
      "source": [
        "Mount on Google Drive"
      ]
    },
    {
      "cell_type": "code",
      "metadata": {
        "id": "TCFkBfYL4VGa"
      },
      "source": [
        "try:\r\n",
        "    from google.colab import drive\r\n",
        "    drive.mount('/content/drive', force_remount=True)\r\n",
        "    COLAB = True\r\n",
        "    print(\"Note: using Google CoLab\")\r\n",
        "except:\r\n",
        "    print(\"Note: not using Google CoLab\")\r\n",
        "    COLAB = False"
      ],
      "execution_count": null,
      "outputs": []
    },
    {
      "cell_type": "markdown",
      "metadata": {
        "id": "UUHOPx0gZfr0"
      },
      "source": [
        "Output Path"
      ]
    },
    {
      "cell_type": "code",
      "metadata": {
        "id": "W3K9E0UZ4otL"
      },
      "source": [
        "path = '/content/drive/My Drive/handwriting/'"
      ],
      "execution_count": null,
      "outputs": []
    },
    {
      "cell_type": "markdown",
      "metadata": {
        "id": "xnp84KUyZkY_"
      },
      "source": [
        "Import Used Libraries"
      ]
    },
    {
      "cell_type": "code",
      "metadata": {
        "id": "zLefo2JD4Kmm"
      },
      "source": [
        "import os\r\n",
        "import logging\r\n",
        "\r\n",
        "import numpy as np\r\n",
        "import svgwrite\r\n",
        "import drawing\r\n",
        "import lyrics\r\n",
        "from rnn import rnn"
      ],
      "execution_count": null,
      "outputs": []
    },
    {
      "cell_type": "markdown",
      "metadata": {
        "id": "MM25bkZtaI1f"
      },
      "source": [
        "Hand Class"
      ]
    },
    {
      "cell_type": "code",
      "metadata": {
        "id": "CRbXQ6OmZzDS"
      },
      "source": [
        "class Hand(object):\r\n",
        "\r\n",
        "    def __init__(self):\r\n",
        "        os.environ['TF_CPP_MIN_LOG_LEVEL'] = '2'\r\n",
        "        self.nn = rnn(\r\n",
        "            log_dir='logs',\r\n",
        "            checkpoint_dir='checkpoints',\r\n",
        "            prediction_dir='predictions',\r\n",
        "            learning_rates=[.0001, .00005, .00002],\r\n",
        "            batch_sizes=[32, 64, 64],\r\n",
        "            patiences=[1500, 1000, 500],\r\n",
        "            beta1_decays=[.9, .9, .9],\r\n",
        "            validation_batch_size=32,\r\n",
        "            optimizer='rms',\r\n",
        "            num_training_steps=100000,\r\n",
        "            warm_start_init_step=17900,\r\n",
        "            regularization_constant=0.0,\r\n",
        "            keep_prob=1.0,\r\n",
        "            enable_parameter_averaging=False,\r\n",
        "            min_steps_to_checkpoint=2000,\r\n",
        "            log_interval=20,\r\n",
        "            logging_level=logging.CRITICAL,\r\n",
        "            grad_clip=10,\r\n",
        "            lstm_size=400,\r\n",
        "            output_mixture_components=20,\r\n",
        "            attention_mixture_components=10\r\n",
        "        )\r\n",
        "        self.nn.restore()\r\n",
        "\r\n",
        "    def write(self, filename, lines, biases=None, styles=None, stroke_colors=None, stroke_widths=None):\r\n",
        "        valid_char_set = set(drawing.alphabet)\r\n",
        "        for line_num, line in enumerate(lines):\r\n",
        "            if len(line) > 75:\r\n",
        "                raise ValueError(\r\n",
        "                    (\r\n",
        "                        \"Each line must be at most 75 characters. \"\r\n",
        "                        \"Line {} contains {}\"\r\n",
        "                    ).format(line_num, len(line))\r\n",
        "                )\r\n",
        "\r\n",
        "            for char in line:\r\n",
        "                if char not in valid_char_set:\r\n",
        "                    raise ValueError(\r\n",
        "                        (\r\n",
        "                            \"Invalid character {} detected in line {}. \"\r\n",
        "                            \"Valid character set is {}\"\r\n",
        "                        ).format(char, line_num, valid_char_set)\r\n",
        "                    )\r\n",
        "\r\n",
        "        strokes = self._sample(lines, biases=biases, styles=styles)\r\n",
        "        self._draw(strokes, lines, filename, stroke_colors=stroke_colors, stroke_widths=stroke_widths)\r\n",
        "\r\n",
        "    def _sample(self, lines, biases=None, styles=None):\r\n",
        "        num_samples = len(lines)\r\n",
        "        max_tsteps = 40*max([len(i) for i in lines])\r\n",
        "        biases = biases if biases is not None else [0.5]*num_samples\r\n",
        "\r\n",
        "        x_prime = np.zeros([num_samples, 1200, 3])\r\n",
        "        x_prime_len = np.zeros([num_samples])\r\n",
        "        chars = np.zeros([num_samples, 120])\r\n",
        "        chars_len = np.zeros([num_samples])\r\n",
        "\r\n",
        "        if styles is not None:\r\n",
        "            for i, (cs, style) in enumerate(zip(lines, styles)):\r\n",
        "                x_p = np.load('styles/style-{}-strokes.npy'.format(style))\r\n",
        "                c_p = np.load('styles/style-{}-chars.npy'.format(style)).tostring().decode('utf-8')\r\n",
        "\r\n",
        "                c_p = str(c_p) + \" \" + cs\r\n",
        "                c_p = drawing.encode_ascii(c_p)\r\n",
        "                c_p = np.array(c_p)\r\n",
        "\r\n",
        "                x_prime[i, :len(x_p), :] = x_p\r\n",
        "                x_prime_len[i] = len(x_p)\r\n",
        "                chars[i, :len(c_p)] = c_p\r\n",
        "                chars_len[i] = len(c_p)\r\n",
        "\r\n",
        "        else:\r\n",
        "            for i in range(num_samples):\r\n",
        "                encoded = drawing.encode_ascii(lines[i])\r\n",
        "                chars[i, :len(encoded)] = encoded\r\n",
        "                chars_len[i] = len(encoded)\r\n",
        "\r\n",
        "        [samples] = self.nn.session.run(\r\n",
        "            [self.nn.sampled_sequence],\r\n",
        "            feed_dict={\r\n",
        "                self.nn.prime: styles is not None,\r\n",
        "                self.nn.x_prime: x_prime,\r\n",
        "                self.nn.x_prime_len: x_prime_len,\r\n",
        "                self.nn.num_samples: num_samples,\r\n",
        "                self.nn.sample_tsteps: max_tsteps,\r\n",
        "                self.nn.c: chars,\r\n",
        "                self.nn.c_len: chars_len,\r\n",
        "                self.nn.bias: biases\r\n",
        "            }\r\n",
        "        )\r\n",
        "        samples = [sample[~np.all(sample == 0.0, axis=1)] for sample in samples]\r\n",
        "        return samples\r\n",
        "\r\n",
        "    def _draw(self, strokes, lines, filename, stroke_colors=None, stroke_widths=None):\r\n",
        "        stroke_colors = stroke_colors or ['black']*len(lines)\r\n",
        "        stroke_widths = stroke_widths or [2]*len(lines)\r\n",
        "\r\n",
        "        line_height = 60\r\n",
        "        view_width = 1000\r\n",
        "        view_height = line_height*(len(strokes) + 1)\r\n",
        "\r\n",
        "        dwg = svgwrite.Drawing(filename=filename)\r\n",
        "        dwg.viewbox(width=view_width, height=view_height)\r\n",
        "        dwg.add(dwg.rect(insert=(0, 0), size=(view_width, view_height), fill='white'))\r\n",
        "\r\n",
        "        initial_coord = np.array([0, -(3*line_height / 4)])\r\n",
        "        for offsets, line, color, width in zip(strokes, lines, stroke_colors, stroke_widths):\r\n",
        "\r\n",
        "            if not line:\r\n",
        "                initial_coord[1] -= line_height\r\n",
        "                continue\r\n",
        "\r\n",
        "            offsets[:, :2] *= 1.5\r\n",
        "            strokes = drawing.offsets_to_coords(offsets)\r\n",
        "            strokes = drawing.denoise(strokes)\r\n",
        "            strokes[:, :2] = drawing.align(strokes[:, :2])\r\n",
        "\r\n",
        "            strokes[:, 1] *= -1\r\n",
        "            strokes[:, :2] -= strokes[:, :2].min() + initial_coord\r\n",
        "            strokes[:, 0] += (view_width - strokes[:, 0].max()) / 2\r\n",
        "\r\n",
        "            prev_eos = 1.0\r\n",
        "            p = \"M{},{} \".format(0, 0)\r\n",
        "            for x, y, eos in zip(*strokes.T):\r\n",
        "                p += '{}{},{} '.format('M' if prev_eos == 1.0 else 'L', x, y)\r\n",
        "                prev_eos = eos\r\n",
        "            path = svgwrite.path.Path(p)\r\n",
        "            path = path.stroke(color=color, width=width, linecap='round').fill(\"none\")\r\n",
        "            dwg.add(path)\r\n",
        "\r\n",
        "            initial_coord[1] -= line_height\r\n",
        "\r\n",
        "        dwg.save()"
      ],
      "execution_count": null,
      "outputs": []
    },
    {
      "cell_type": "markdown",
      "metadata": {
        "id": "7TAkU5fwZ6WP"
      },
      "source": [
        "Convert TXT text to handwritten in SVG format"
      ]
    },
    {
      "cell_type": "code",
      "metadata": {
        "id": "wolqT8L1Z4H2"
      },
      "source": [
        "if __name__ == '__main__':\r\n",
        "    hand = Hand()\r\n",
        "\r\n",
        "    with open(path + 'consulta.txt', \"r\") as f:\r\n",
        "        lines = f.read().splitlines() \r\n",
        "\r\n",
        "    maxlen = len(max(lines, key=len))    \r\n",
        "    lines = [line + (' ' * (maxlen - len(line))) for line in lines]\r\n",
        "\r\n",
        "    biases = [.75 for i in lines]\r\n",
        "    styles = [9 for i in lines]\r\n",
        "\r\n",
        "    hand.write(\r\n",
        "        filename=path + 'consulta.svg',\r\n",
        "        lines=lines,\r\n",
        "        biases=biases,\r\n",
        "        styles=styles,\r\n",
        "    )"
      ],
      "execution_count": null,
      "outputs": []
    }
  ]
}